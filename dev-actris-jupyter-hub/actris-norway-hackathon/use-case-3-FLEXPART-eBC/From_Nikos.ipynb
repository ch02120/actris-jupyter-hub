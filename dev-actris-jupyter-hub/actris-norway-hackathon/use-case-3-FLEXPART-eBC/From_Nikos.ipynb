{
 "cells": [
  {
   "cell_type": "code",
   "execution_count": 1,
   "metadata": {},
   "outputs": [],
   "source": [
    "import sys\n",
    "import numpy as np\n",
    "from netCDF4 import Dataset\n",
    "import requests\n",
    "import io\n",
    "from datetime import datetime, timedelta\n",
    "import matplotlib.pyplot as plt\n",
    "from mpl_toolkits.basemap import Basemap, cm, maskoceans\n",
    "from matplotlib.colors import LinearSegmentedColormap"
   ]
  },
  {
   "cell_type": "code",
   "execution_count": 2,
   "metadata": {},
   "outputs": [],
   "source": [
    "# SETTINGS\n",
    "STATION = \"DE0043G\" # GIVE STATION CODE\n",
    "# NOTE stations DE0043G    DE0044R    ES0019U    ES0020U    FR0020R    IT0004R    IT0013R    RO0007R FR0026R are lidar and for these ALT>0 is allowed [0, 100, 500, 4000]\n",
    "YEAR = 2023# GIVE YEAR\n",
    "MON = 7 # GIVE MONTH\n",
    "ALT = 100 # GIVE ALTITUDE\n",
    "DD = 20 # GIVE DAY\n",
    "TT = 12 # GIVE THE TIME IN 3 HOURLY INTERVALS LIKE 0, 3, 6, ..., 21\n",
    "PROJ = \"REGIONAL\" # GIVE THE PROJECTION YOU WANT TO SEE: CHOOSE BETWEEN GLOBAL, REGIONAL, POLAR \n",
    "\n",
    "##### DO NOT CHANGE BELOW UNLESS YOU KNOW WHAT YOU DO #####\n",
    "# Available stations and their coordinates\n",
    "STNLIST = [\"NO0042G\", \"FI0050R\", \"FR0030R\", \"CZ0003R\", \"GR0002R\", \"CH0002R\", \"CH0001G\", \"GR0100B\", \"ES0018G\", \"IT0009R\", \"NO0002R\", \"ES0100R\", \"GR0101R\",\"DE0043G\", \"DE0044R\", \"ES0019U\", \"ES0020U\", \"FR0020R\", \"IT0004R\", \"IT0013R\", \"RO0007R\", \"FR0026R\"]\n",
    "LONLIST = [11.88668, 24.283333, 2.964886, 15.080278, 25.669399, 6.944722, 7.985, 23.816, -16.4994, 10.7, 8.252, -6.733, 22.196262, 11.009619, 12.9277, 2.116111, -3.605, 2.158889, 8.633333, 15.7237, 26.029, 55.383]\n",
    "LATLIST = [78.90715, 61.85, 45.772223, 49.573394, 35.337799, 46.813056, 46.5475, 37.994999, 28.309, 44.183333, 58.38853, 37.1, 37.984265, 47.801498, 51.5255, 41.39, 37.164, 48.708611, 45.8, 40.601, 44.348, -21.0794]\n",
    "ALTLIST = [0, 100, 500, 4000, 6000]\n"
   ]
  },
  {
   "cell_type": "code",
   "execution_count": 3,
   "metadata": {},
   "outputs": [
    {
     "name": "stdout",
     "output_type": "stream",
     "text": [
      "The coordinates of DE0043G are [11.009619] and [47.801498]\n"
     ]
    }
   ],
   "source": [
    "# Find coordinates of the station given in SETTINGS\n",
    "xx = []; yy = []\n",
    "for i in range(len(STNLIST)):\n",
    "    if STNLIST[i] == STATION:\n",
    "        xx.append(LONLIST[i])\n",
    "        yy.append(LATLIST[i])\n",
    "\n",
    "print(\"The coordinates of\",STATION, \"are\",xx, \"and\",yy)"
   ]
  },
  {
   "cell_type": "code",
   "execution_count": 10,
   "metadata": {},
   "outputs": [
    {
     "name": "stdout",
     "output_type": "stream",
     "text": [
      "The altitude of DE0043G is [100] and [500]\n"
     ]
    }
   ],
   "source": [
    "# Find altitude of the station given in SETTINGS\n",
    "zz1 = []; zz2 = []\n",
    "for i in range(len(ALTLIST)):\n",
    "    if ALTLIST[i] == ALT:\n",
    "        zz1.append(ALTLIST[i])\n",
    "        zz2.append(ALTLIST[i+1])\n",
    "\n",
    "print(\"The altitude of\",STATION, \"is\",zz1, \"and\",zz2)"
   ]
  },
  {
   "cell_type": "code",
   "execution_count": 5,
   "metadata": {},
   "outputs": [],
   "source": [
    "\n",
    "# Set datetime objects dat and datE\n",
    "dat = datetime(YEAR,MON,DD,TT)\n",
    "datE = dat + timedelta(hours=3)\n",
    "\n",
    "# Define the start and end of the month\n",
    "start_date = datetime(YEAR, MON, 1, 0, 0) # Start at midnight on the first day\n",
    "# Find the first day of the next month to mark the end\n",
    "if MON == 12:\n",
    "    end_date = datetime(YEAR + 1, 1, 1, 0, 0) # If December, next month is January of the next year\n",
    "else:\n",
    "    end_date = datetime(YEAR, MON + 1, 1, 0, 0) # Otherwise, just increment the month\n",
    "\n",
    "time_steps = []\n",
    "current_time = start_date\n",
    "while current_time < end_date:\n",
    "    time_steps.append(current_time)\n",
    "    current_time += timedelta(hours=3)\n",
    "\n",
    "\n",
    "#print(ddlist)\n",
    "target_datetime = datetime(YEAR,MON,DD,TT)"
   ]
  },
  {
   "cell_type": "code",
   "execution_count": 6,
   "metadata": {},
   "outputs": [
    {
     "name": "stdout",
     "output_type": "stream",
     "text": [
      "The index of 2023-07-20 12:00:00 is 157.\n",
      "The index of  2023-07-20 12:00:00 within a month is 157\n"
     ]
    }
   ],
   "source": [
    "# Find the index of the specific datetime within the list\n",
    "try:\n",
    "    idx = time_steps.index(target_datetime)+1\n",
    "    print(f\"The index of {target_datetime} is {idx}.\")\n",
    "except ValueError:\n",
    "    print(f\"{target_datetime} is not in the list of time steps.\")\n",
    "\n",
    "print(\"The index of \", dat, \"within a month is\", idx)"
   ]
  },
  {
   "cell_type": "code",
   "execution_count": 7,
   "metadata": {},
   "outputs": [
    {
     "name": "stdout",
     "output_type": "stream",
     "text": [
      "File is taken from https://atmo-access.nilu.no/WEBPLOTS/DE0043G/2023/OUT_202307_100/ECMWF/regional_footprint_a/OUT_202307_100.regional_footprint_a_157.nc\n"
     ]
    }
   ],
   "source": [
    "# URL of the NetCDF file (example URL)\n",
    "url = 'https://atmo-access.nilu.no/WEBPLOTS/' + str(STATION) + '/' + str(YEAR) + '/' + \\\n",
    "'OUT_' + str(YEAR) + str(MON).zfill(2) + '_' + str(ALT) + '/' + 'ECMWF/regional_footprint_a/OUT_'+ \\\n",
    "str(YEAR) + str(MON).zfill(2) + '_' + str(ALT) +'.regional_footprint_a_'+str(idx)+'.nc'\n",
    "print(\"File is taken from\", url)"
   ]
  },
  {
   "cell_type": "code",
   "execution_count": 8,
   "metadata": {},
   "outputs": [
    {
     "name": "stdout",
     "output_type": "stream",
     "text": [
      "<class 'netCDF4._netCDF4.Dataset'>\n",
      "root group (NETCDF4 data model, file format HDF5):\n",
      "    author: Nikolaos Evangeliou\n",
      "    contact: ne@nilu.no\n",
      "    created_date_UTC: 19-03-2024\n",
      "    created_hour_UTC: 02:49:02\n",
      "    institution: Norsk Institute for Luftforskning\n",
      "    description: Creates 2D netCDF from a pre-existing array\n",
      "    history: Created by NE\n",
      "    source: netCDF4 python module\n",
      "    coordinates: latitude longitude\n",
      "    dimensions(sizes): latitude(360), longitude(720)\n",
      "    variables(dimensions): float32 latitude(latitude), float32 longitude(longitude), float32 footprint(latitude, longitude)\n",
      "    groups: \n",
      "Variables in the dataset:\n",
      "['latitude', 'longitude', 'footprint']\n",
      "NetCDF file processed successfully.\n"
     ]
    }
   ],
   "source": [
    "# Function to read the NetCDF file from the internet\n",
    "def read_netcdf_from_url(url):\n",
    "    try:\n",
    "        # Send a GET request to download the file\n",
    "        response = requests.get(url)\n",
    "        response.raise_for_status() # Raise an exception for HTTP errors\n",
    "        \n",
    "        # Open the file from the response content using an in-memory bytes buffer\n",
    "        with io.BytesIO(response.content) as data:\n",
    "            # Open the dataset from the byte stream\n",
    "            ds = Dataset('inmemory.nc', mode='r', memory=data.read())\n",
    "            # Print basic information about the dataset\n",
    "            print(ds) \n",
    "            # Example: List variables in the dataset\n",
    "            print(\"Variables in the dataset:\")\n",
    "            print(list(ds.variables.keys()))\n",
    "            lons = ds.variables['longitude'][:]\n",
    "            lats = ds.variables['latitude'][:]\n",
    "            foot = ds.variables['footprint'][:]\n",
    "            \n",
    "            # Close the dataset when done\n",
    "            ds.close()\n",
    "            print(\"NetCDF file processed successfully.\")\n",
    "    except requests.exceptions.RequestException as e:\n",
    "        print(f\"Error downloading the NetCDF file: {e}\")\n",
    "    except Exception as e:\n",
    "        print(f\"Error reading the NetCDF file: {e}\")\n",
    "    return lons, lats, foot\n",
    "\n",
    "# Call the function to read the NetCDF file from the URL\n",
    "lons, lats, foot = read_netcdf_from_url(url)\n"
   ]
  },
  {
   "cell_type": "code",
   "execution_count": 9,
   "metadata": {},
   "outputs": [
    {
     "ename": "OSError",
     "evalue": "Unable to open boundary dataset file. Only the 'crude' and  'low',\nresolution datasets are installed by default.\nIf you are requesting an, 'intermediate', 'high' or 'full'\nresolution dataset, you may need to download and install those\nfiles separately with\n`conda install basemap-data-hires`.",
     "output_type": "error",
     "traceback": [
      "\u001b[0;31m---------------------------------------------------------------------------\u001b[0m",
      "\u001b[0;31mFileNotFoundError\u001b[0m                         Traceback (most recent call last)",
      "File \u001b[0;32m~/anaconda3/lib/python3.9/site-packages/mpl_toolkits/basemap/__init__.py:1230\u001b[0m, in \u001b[0;36mBasemap._readboundarydata\u001b[0;34m(self, name, as_polygons)\u001b[0m\n\u001b[1;32m   1229\u001b[0m \u001b[38;5;28;01mtry\u001b[39;00m:\n\u001b[0;32m-> 1230\u001b[0m     bdatfile \u001b[38;5;241m=\u001b[39m \u001b[38;5;28;43mopen\u001b[39;49m\u001b[43m(\u001b[49m\u001b[43mos\u001b[49m\u001b[38;5;241;43m.\u001b[39;49m\u001b[43mpath\u001b[49m\u001b[38;5;241;43m.\u001b[39;49m\u001b[43mjoin\u001b[49m\u001b[43m(\u001b[49m\u001b[43mbasemap_datadir\u001b[49m\u001b[43m,\u001b[49m\u001b[43mname\u001b[49m\u001b[38;5;241;43m+\u001b[39;49m\u001b[38;5;124;43m'\u001b[39;49m\u001b[38;5;124;43m_\u001b[39;49m\u001b[38;5;124;43m'\u001b[39;49m\u001b[38;5;241;43m+\u001b[39;49m\u001b[38;5;28;43mself\u001b[39;49m\u001b[38;5;241;43m.\u001b[39;49m\u001b[43mresolution\u001b[49m\u001b[38;5;241;43m+\u001b[39;49m\u001b[38;5;124;43m'\u001b[39;49m\u001b[38;5;124;43m.dat\u001b[39;49m\u001b[38;5;124;43m'\u001b[39;49m\u001b[43m)\u001b[49m\u001b[43m,\u001b[49m\u001b[38;5;124;43m'\u001b[39;49m\u001b[38;5;124;43mrb\u001b[39;49m\u001b[38;5;124;43m'\u001b[39;49m\u001b[43m)\u001b[49m\n\u001b[1;32m   1231\u001b[0m     bdatmetafile \u001b[38;5;241m=\u001b[39m \u001b[38;5;28mopen\u001b[39m(os\u001b[38;5;241m.\u001b[39mpath\u001b[38;5;241m.\u001b[39mjoin(basemap_datadir,name\u001b[38;5;241m+\u001b[39m\u001b[38;5;124m'\u001b[39m\u001b[38;5;124mmeta_\u001b[39m\u001b[38;5;124m'\u001b[39m\u001b[38;5;241m+\u001b[39m\u001b[38;5;28mself\u001b[39m\u001b[38;5;241m.\u001b[39mresolution\u001b[38;5;241m+\u001b[39m\u001b[38;5;124m'\u001b[39m\u001b[38;5;124m.dat\u001b[39m\u001b[38;5;124m'\u001b[39m),\u001b[38;5;124m'\u001b[39m\u001b[38;5;124mr\u001b[39m\u001b[38;5;124m'\u001b[39m)\n",
      "\u001b[0;31mFileNotFoundError\u001b[0m: [Errno 2] No such file or directory: '/home/lemu/anaconda3/share/basemap/gshhs_i.dat'",
      "\nDuring handling of the above exception, another exception occurred:\n",
      "\u001b[0;31mOSError\u001b[0m                                   Traceback (most recent call last)",
      "Cell \u001b[0;32mIn[9], line 53\u001b[0m\n\u001b[1;32m     51\u001b[0m \u001b[38;5;66;03m# PLOT IT        \u001b[39;00m\n\u001b[1;32m     52\u001b[0m fig \u001b[38;5;241m=\u001b[39m plt\u001b[38;5;241m.\u001b[39mfigure(figsize\u001b[38;5;241m=\u001b[39m(\u001b[38;5;241m8\u001b[39m,\u001b[38;5;241m7.5\u001b[39m))\n\u001b[0;32m---> 53\u001b[0m \u001b[43mplot\u001b[49m\u001b[43m(\u001b[49m\u001b[43mdat\u001b[49m\u001b[43m,\u001b[49m\u001b[43mdatE\u001b[49m\u001b[43m,\u001b[49m\u001b[43mxx\u001b[49m\u001b[43m[\u001b[49m\u001b[38;5;241;43m0\u001b[39;49m\u001b[43m]\u001b[49m\u001b[43m,\u001b[49m\u001b[43myy\u001b[49m\u001b[43m[\u001b[49m\u001b[38;5;241;43m0\u001b[39;49m\u001b[43m]\u001b[49m\u001b[43m,\u001b[49m\u001b[43mlons\u001b[49m\u001b[43m,\u001b[49m\u001b[43mlats\u001b[49m\u001b[43m,\u001b[49m\u001b[43mzz1\u001b[49m\u001b[43m[\u001b[49m\u001b[38;5;241;43m0\u001b[39;49m\u001b[43m]\u001b[49m\u001b[43m,\u001b[49m\u001b[43mzz2\u001b[49m\u001b[43m[\u001b[49m\u001b[38;5;241;43m0\u001b[39;49m\u001b[43m]\u001b[49m\u001b[43m,\u001b[49m\u001b[43mfoot\u001b[49m\u001b[43m,\u001b[49m\u001b[43marea\u001b[49m\u001b[38;5;241;43m=\u001b[39;49m\u001b[43mPROJ\u001b[49m\u001b[43m)\u001b[49m\n\u001b[1;32m     54\u001b[0m fig\u001b[38;5;241m.\u001b[39mshow()\n",
      "Cell \u001b[0;32mIn[9], line 6\u001b[0m, in \u001b[0;36mplot\u001b[0;34m(dat, datE, xx, yy, lons, lats, zpoint1, zpoint2, var, area)\u001b[0m\n\u001b[1;32m      3\u001b[0m ax \u001b[38;5;241m=\u001b[39m fig\u001b[38;5;241m.\u001b[39madd_subplot(\u001b[38;5;241m111\u001b[39m)\n\u001b[1;32m      4\u001b[0m ax\u001b[38;5;241m.\u001b[39mset_title(\u001b[38;5;124m'\u001b[39m\u001b[38;5;124mFootprint emission sensitivity for BC\u001b[39m\u001b[38;5;124m'\u001b[39m\u001b[38;5;241m+\u001b[39m\u001b[38;5;124m'\u001b[39m\u001b[38;5;130;01m\\n\u001b[39;00m\u001b[38;5;124mfrom \u001b[39m\u001b[38;5;124m'\u001b[39m\u001b[38;5;241m+\u001b[39m dat\u001b[38;5;241m.\u001b[39mstrftime(\u001b[38;5;124m\"\u001b[39m\u001b[38;5;132;01m%d\u001b[39;00m\u001b[38;5;124m-\u001b[39m\u001b[38;5;124m%\u001b[39m\u001b[38;5;124mb-\u001b[39m\u001b[38;5;124m%\u001b[39m\u001b[38;5;124mY \u001b[39m\u001b[38;5;124m%\u001b[39m\u001b[38;5;124mH:\u001b[39m\u001b[38;5;124m%\u001b[39m\u001b[38;5;124mM:\u001b[39m\u001b[38;5;124m%\u001b[39m\u001b[38;5;124mS\u001b[39m\u001b[38;5;124m\"\u001b[39m)\u001b[38;5;241m+\u001b[39m\u001b[38;5;124m'\u001b[39m\u001b[38;5;124m to \u001b[39m\u001b[38;5;124m'\u001b[39m\u001b[38;5;241m+\u001b[39mdatE\u001b[38;5;241m.\u001b[39mstrftime(\u001b[38;5;124m\"\u001b[39m\u001b[38;5;132;01m%d\u001b[39;00m\u001b[38;5;124m-\u001b[39m\u001b[38;5;124m%\u001b[39m\u001b[38;5;124mb-\u001b[39m\u001b[38;5;124m%\u001b[39m\u001b[38;5;124mY \u001b[39m\u001b[38;5;124m%\u001b[39m\u001b[38;5;124mH:\u001b[39m\u001b[38;5;124m%\u001b[39m\u001b[38;5;124mM:\u001b[39m\u001b[38;5;124m%\u001b[39m\u001b[38;5;124mS\u001b[39m\u001b[38;5;124m\"\u001b[39m)\u001b[38;5;241m+\u001b[39m\u001b[38;5;124m'\u001b[39m\u001b[38;5;130;01m\\n\u001b[39;00m\u001b[38;5;124mLowest release height: \u001b[39m\u001b[38;5;124m'\u001b[39m\u001b[38;5;241m+\u001b[39m\u001b[38;5;28mstr\u001b[39m(\u001b[38;5;28mint\u001b[39m(zpoint1))\u001b[38;5;241m+\u001b[39m\u001b[38;5;124m'\u001b[39m\u001b[38;5;124m m Highest release height: \u001b[39m\u001b[38;5;124m'\u001b[39m\u001b[38;5;241m+\u001b[39m\u001b[38;5;28mstr\u001b[39m(\u001b[38;5;28mint\u001b[39m(zpoint2))\u001b[38;5;241m+\u001b[39m\u001b[38;5;124m'\u001b[39m\u001b[38;5;124m m\u001b[39m\u001b[38;5;124m'\u001b[39m,fontsize\u001b[38;5;241m=\u001b[39m\u001b[38;5;241m14\u001b[39m)\n\u001b[0;32m----> 6\u001b[0m m \u001b[38;5;241m=\u001b[39m \u001b[43mBasemap\u001b[49m\u001b[43m(\u001b[49m\u001b[43mwidth\u001b[49m\u001b[38;5;241;43m=\u001b[39;49m\u001b[38;5;241;43m8000000\u001b[39;49m\u001b[43m,\u001b[49m\u001b[43mheight\u001b[49m\u001b[38;5;241;43m=\u001b[39;49m\u001b[38;5;241;43m5000000\u001b[39;49m\u001b[43m,\u001b[49m\u001b[43mresolution\u001b[49m\u001b[38;5;241;43m=\u001b[39;49m\u001b[38;5;124;43m'\u001b[39;49m\u001b[38;5;124;43mi\u001b[39;49m\u001b[38;5;124;43m'\u001b[39;49m\u001b[43m,\u001b[49m\u001b[43mprojection\u001b[49m\u001b[38;5;241;43m=\u001b[39;49m\u001b[38;5;124;43m'\u001b[39;49m\u001b[38;5;124;43mstere\u001b[39;49m\u001b[38;5;124;43m'\u001b[39;49m\u001b[43m,\u001b[49m\u001b[43mlat_ts\u001b[49m\u001b[38;5;241;43m=\u001b[39;49m\u001b[38;5;241;43m60.\u001b[39;49m\u001b[43m,\u001b[49m\u001b[43mlat_0\u001b[49m\u001b[38;5;241;43m=\u001b[39;49m\u001b[43myy\u001b[49m\u001b[43m,\u001b[49m\u001b[43mlon_0\u001b[49m\u001b[38;5;241;43m=\u001b[39;49m\u001b[43mxx\u001b[49m\u001b[43m)\u001b[49m\n\u001b[1;32m      8\u001b[0m \u001b[38;5;28;01mif\u001b[39;00m area \u001b[38;5;241m==\u001b[39m \u001b[38;5;124m'\u001b[39m\u001b[38;5;124mGLOBAL\u001b[39m\u001b[38;5;124m'\u001b[39m:\n\u001b[1;32m      9\u001b[0m     m \u001b[38;5;241m=\u001b[39m Basemap(projection\u001b[38;5;241m=\u001b[39m\u001b[38;5;124m'\u001b[39m\u001b[38;5;124mrobin\u001b[39m\u001b[38;5;124m'\u001b[39m,lon_0\u001b[38;5;241m=\u001b[39m\u001b[38;5;241m0\u001b[39m,resolution\u001b[38;5;241m=\u001b[39m\u001b[38;5;124m'\u001b[39m\u001b[38;5;124ml\u001b[39m\u001b[38;5;124m'\u001b[39m)\n",
      "File \u001b[0;32m~/anaconda3/lib/python3.9/site-packages/mpl_toolkits/basemap/__init__.py:1119\u001b[0m, in \u001b[0;36mBasemap.__init__\u001b[0;34m(self, llcrnrlon, llcrnrlat, urcrnrlon, urcrnrlat, llcrnrx, llcrnry, urcrnrx, urcrnry, width, height, projection, resolution, area_thresh, rsphere, ellps, lat_ts, lat_1, lat_2, lat_0, lon_0, lon_1, lon_2, o_lon_p, o_lat_p, k_0, no_rot, suppress_ticks, satellite_height, boundinglat, fix_aspect, anchor, celestial, round, epsg, ax)\u001b[0m\n\u001b[1;32m   1115\u001b[0m \u001b[38;5;66;03m# read in coastline polygons, only keeping those that\u001b[39;00m\n\u001b[1;32m   1116\u001b[0m \u001b[38;5;66;03m# intersect map boundary polygon.\u001b[39;00m\n\u001b[1;32m   1117\u001b[0m \u001b[38;5;28;01mif\u001b[39;00m \u001b[38;5;28mself\u001b[39m\u001b[38;5;241m.\u001b[39mresolution \u001b[38;5;129;01mis\u001b[39;00m \u001b[38;5;129;01mnot\u001b[39;00m \u001b[38;5;28;01mNone\u001b[39;00m:\n\u001b[1;32m   1118\u001b[0m     \u001b[38;5;28mself\u001b[39m\u001b[38;5;241m.\u001b[39mcoastsegs, \u001b[38;5;28mself\u001b[39m\u001b[38;5;241m.\u001b[39mcoastpolygontypes \u001b[38;5;241m=\u001b[39m\\\n\u001b[0;32m-> 1119\u001b[0m     \u001b[38;5;28;43mself\u001b[39;49m\u001b[38;5;241;43m.\u001b[39;49m\u001b[43m_readboundarydata\u001b[49m\u001b[43m(\u001b[49m\u001b[38;5;124;43m'\u001b[39;49m\u001b[38;5;124;43mgshhs\u001b[39;49m\u001b[38;5;124;43m'\u001b[39;49m\u001b[43m,\u001b[49m\u001b[43mas_polygons\u001b[49m\u001b[38;5;241;43m=\u001b[39;49m\u001b[38;5;28;43;01mTrue\u001b[39;49;00m\u001b[43m)\u001b[49m\n\u001b[1;32m   1120\u001b[0m     \u001b[38;5;66;03m# reformat for use in matplotlib.patches.Polygon.\u001b[39;00m\n\u001b[1;32m   1121\u001b[0m     \u001b[38;5;28mself\u001b[39m\u001b[38;5;241m.\u001b[39mcoastpolygons \u001b[38;5;241m=\u001b[39m []\n",
      "File \u001b[0;32m~/anaconda3/lib/python3.9/site-packages/mpl_toolkits/basemap/__init__.py:1233\u001b[0m, in \u001b[0;36mBasemap._readboundarydata\u001b[0;34m(self, name, as_polygons)\u001b[0m\n\u001b[1;32m   1231\u001b[0m     bdatmetafile \u001b[38;5;241m=\u001b[39m \u001b[38;5;28mopen\u001b[39m(os\u001b[38;5;241m.\u001b[39mpath\u001b[38;5;241m.\u001b[39mjoin(basemap_datadir,name\u001b[38;5;241m+\u001b[39m\u001b[38;5;124m'\u001b[39m\u001b[38;5;124mmeta_\u001b[39m\u001b[38;5;124m'\u001b[39m\u001b[38;5;241m+\u001b[39m\u001b[38;5;28mself\u001b[39m\u001b[38;5;241m.\u001b[39mresolution\u001b[38;5;241m+\u001b[39m\u001b[38;5;124m'\u001b[39m\u001b[38;5;124m.dat\u001b[39m\u001b[38;5;124m'\u001b[39m),\u001b[38;5;124m'\u001b[39m\u001b[38;5;124mr\u001b[39m\u001b[38;5;124m'\u001b[39m)\n\u001b[1;32m   1232\u001b[0m \u001b[38;5;28;01mexcept\u001b[39;00m:\n\u001b[0;32m-> 1233\u001b[0m     \u001b[38;5;28;01mraise\u001b[39;00m \u001b[38;5;167;01mIOError\u001b[39;00m(msg)\n\u001b[1;32m   1234\u001b[0m polygons \u001b[38;5;241m=\u001b[39m []\n\u001b[1;32m   1235\u001b[0m polygon_types \u001b[38;5;241m=\u001b[39m []\n",
      "\u001b[0;31mOSError\u001b[0m: Unable to open boundary dataset file. Only the 'crude' and  'low',\nresolution datasets are installed by default.\nIf you are requesting an, 'intermediate', 'high' or 'full'\nresolution dataset, you may need to download and install those\nfiles separately with\n`conda install basemap-data-hires`."
     ]
    },
    {
     "data": {
      "image/png": "[encoded data removed]",
      "text/plain": [
       "<Figure size 800x750 with 1 Axes>"
      ]
     },
     "metadata": {},
     "output_type": "display_data"
    }
   ],
   "source": [
    "######## MAKE PLOT ########\n",
    "def plot(dat,datE,xx,yy,lons,lats,zpoint1,zpoint2,var,area='GLOBAL'):\n",
    "    ax = fig.add_subplot(111)\n",
    "    ax.set_title('Footprint emission sensitivity for BC'+'\\nfrom '+ dat.strftime(\"%d-%b-%Y %H:%M:%S\")+' to '+datE.strftime(\"%d-%b-%Y %H:%M:%S\")+'\\nLowest release height: '+str(int(zpoint1))+' m Highest release height: '+str(int(zpoint2))+' m',fontsize=14)\n",
    "    \n",
    "    m = Basemap(width=8000000,height=5000000,resolution='l',projection='stere',lat_ts=60.,lat_0=yy,lon_0=xx)\n",
    "    \n",
    "    if area == 'GLOBAL':\n",
    "        m = Basemap(projection='robin',lon_0=0,resolution='l')\n",
    "\n",
    "    elif area == 'REGIONAL':\n",
    "        m = Basemap(width=8000000,height=5000000,resolution='l',projection='stere',lat_ts=60.,lat_0=yy,lon_0=xx)\n",
    "\n",
    "    elif area == 'POLAR':\n",
    "        h = 10000.\n",
    "        m = Basemap(projection='nsper',lon_0=xx,lat_0=90.,satellite_height=h*1000.,resolution='l')\n",
    "\n",
    "    else:\n",
    "        print(\"Error\")\n",
    "        sys.exit()\n",
    "\n",
    "    lon, lat = np.meshgrid(lons, lats)\n",
    "    xi, yi = m(lon, lat)\n",
    "    \n",
    "    levs = np.arange(-2,6.01,0.01)\n",
    "    clevs = 2**levs\n",
    "    boundlevs = [str(('%.2f' % v).rstrip('0').rstrip('.')) if v <=1 else str(int(round(v))) for v in clevs]\n",
    "    \n",
    "    m.drawcoastlines()\n",
    "    if area == 'GLOBAL' or area == 'POLAR':\n",
    "        m.drawparallels(np.arange(-90.,91.,30.), labels=[1,0,0,0], fontsize=10)\n",
    "        m.drawmeridians(np.arange(-180.,181.,60.), labels=[0,0,0,1], fontsize=10)\n",
    "    elif area == 'REGIONAL':\n",
    "        m.drawparallels(np.arange(-90.,91.,10.), labels=[1,0,0,0], fontsize=10)\n",
    "        m.drawmeridians(np.arange(-180.,181.,20.), labels=[0,0,0,1], fontsize=10)\n",
    "    m.drawmapboundary()\n",
    "    m.drawcountries()\n",
    "    \n",
    "    colors = [\"purple\", \"red\", \"orange\", \"gold\", \"lawngreen\", \"cyan\", \"blue\", \"mediumorchid\", \"white\"]\n",
    "    cmap = LinearSegmentedColormap.from_list(\"cb_friendly\", colors[::-1], N=900)\n",
    "    norm = cm.colors.BoundaryNorm(boundaries=clevs,ncolors=cmap.N)\n",
    "    \n",
    "    cs = m.contourf(xi,yi,var[:,:],clevs,cmap=cmap,extend='both', norm=norm) \n",
    "    cbar = m.colorbar(cs,ticks=clevs[::100], location='bottom', pad=\"12%\")\n",
    "    cbar.set_label('seconds',fontsize=15)\n",
    "    cbar.ax.set_xticklabels(boundlevs[::100])\n",
    "    \n",
    "    aa1,bb1= m(xx, yy)\n",
    "    m.plot(aa1, bb1, marker='*', markersize=10, markeredgecolor='k',markeredgewidth=0.8,markerfacecolor='m',linestyle='')\n",
    "\n",
    "# PLOT IT        \n",
    "fig = plt.figure(figsize=(8,7.5))\n",
    "plot(dat,datE,xx[0],yy[0],lons,lats,zz1[0],zz2[0],foot,area=PROJ)\n",
    "fig.show()"
   ]
  },
  {
   "cell_type": "code",
   "execution_count": null,
   "metadata": {},
   "outputs": [],
   "source": []
  }
 ],
 "metadata": {
  "kernelspec": {
   "display_name": "base",
   "language": "python",
   "name": "python3"
  },
  "language_info": {
   "codemirror_mode": {
    "name": "ipython",
    "version": 3
   },
   "file_extension": ".py",
   "mimetype": "text/x-python",
   "name": "python",
   "nbconvert_exporter": "python",
   "pygments_lexer": "ipython3",
   "version": "3.9.16"
  }
 },
 "nbformat": 4,
 "nbformat_minor": 2
}
